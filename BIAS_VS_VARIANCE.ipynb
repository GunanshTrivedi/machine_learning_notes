{
 "cells": [
  {
   "cell_type": "markdown",
   "id": "535c249b",
   "metadata": {},
   "source": [
    "BIAS VS VARIANCE ---"
   ]
  },
  {
   "cell_type": "markdown",
   "id": "a2a054d7",
   "metadata": {},
   "source": [
    "Bias is a measurement of how accurately a model can capture a pattern in a training dataset. In above cases since train error is big it is said to have high bias."
   ]
  },
  {
   "cell_type": "markdown",
   "id": "ab9bd203",
   "metadata": {},
   "source": [
    "Bias directly proportional to train error"
   ]
  },
  {
   "cell_type": "markdown",
   "id": "3cfb9bee",
   "metadata": {},
   "source": [
    "There are three types of fit --"
   ]
  },
  {
   "cell_type": "markdown",
   "id": "405c213b",
   "metadata": {},
   "source": [
    "1. under fit -- In this every data point is not near to the curve and we get less variance ."
   ]
  },
  {
   "cell_type": "markdown",
   "id": "41b0d127",
   "metadata": {},
   "source": [
    "2. over fit -- It is connecting all the data point and 100% accurate but the problem is it will be far from the testing data and it will have very high variance and high train error."
   ]
  },
  {
   "cell_type": "markdown",
   "id": "e775dabb",
   "metadata": {},
   "source": [
    "3. balance fit -- This is the most ideal scenerio in this the train error is also low and the variance is also lowest and the bias is also low so we use this method."
   ]
  },
  {
   "cell_type": "markdown",
   "id": "87d99bd7",
   "metadata": {},
   "source": []
  },
  {
   "cell_type": "markdown",
   "id": "f4ffe105",
   "metadata": {},
   "source": [
    "Four types of combination possible --"
   ]
  },
  {
   "cell_type": "markdown",
   "id": "8dd3c467",
   "metadata": {},
   "source": [
    "1. Low variance Low Bias -- Near to original value and less Variance most ideal and usefull method."
   ]
  },
  {
   "cell_type": "markdown",
   "id": "14fd5470",
   "metadata": {},
   "source": [
    "2. High variance Low Bias -- Near to original value but variance high."
   ]
  },
  {
   "cell_type": "markdown",
   "id": "ac896e60",
   "metadata": {},
   "source": [
    "3. Low variance High Bias -- Far from the original value and low variance."
   ]
  },
  {
   "cell_type": "markdown",
   "id": "325e0f22",
   "metadata": {},
   "source": [
    "4. High variance High Bias -- Far from the original value and high variance between the data. Worst condition."
   ]
  },
  {
   "cell_type": "markdown",
   "id": "570cb5f3",
   "metadata": {},
   "source": []
  },
  {
   "cell_type": "markdown",
   "id": "14597db6",
   "metadata": {},
   "source": [
    "Ways to get a balanced Fit --"
   ]
  },
  {
   "cell_type": "markdown",
   "id": "350c7d51",
   "metadata": {},
   "source": [
    "1. Cross Validation (K fold cross)"
   ]
  },
  {
   "cell_type": "markdown",
   "id": "202a8fd4",
   "metadata": {},
   "source": [
    "2. Regularization"
   ]
  },
  {
   "cell_type": "markdown",
   "id": "dd97b7a5",
   "metadata": {},
   "source": [
    "3. PCA"
   ]
  },
  {
   "cell_type": "markdown",
   "id": "e48eb080",
   "metadata": {},
   "source": [
    "4. ensemble -- Bagging"
   ]
  },
  {
   "cell_type": "markdown",
   "id": "48300fca",
   "metadata": {},
   "source": []
  },
  {
   "cell_type": "markdown",
   "id": "b9a9975a",
   "metadata": {},
   "source": []
  },
  {
   "cell_type": "markdown",
   "id": "25402e6c",
   "metadata": {},
   "source": []
  }
 ],
 "metadata": {
  "language_info": {
   "name": "python"
  }
 },
 "nbformat": 4,
 "nbformat_minor": 5
}
