{
 "cells": [
  {
   "cell_type": "markdown",
   "id": "6c7a2ceb",
   "metadata": {},
   "source": [
    "L1 AND L2 REGULARIZATION --"
   ]
  },
  {
   "cell_type": "markdown",
   "id": "39f97aba",
   "metadata": {},
   "source": [
    "There are some data poits which are outfit of the data so to gather them we use this method..\n",
    "There are three types of fit --\n",
    "1. Under fit -- in this some data points are missed by the curve.\n",
    "2. Over fit -- in this every data point is being connected.\n",
    "3. Balance fit -- in this a general curve is made which is near to every data point. This is the best technique."
   ]
  },
  {
   "cell_type": "code",
   "execution_count": 1,
   "id": "19e10ef2",
   "metadata": {},
   "outputs": [],
   "source": [
    "import pandas as pd "
   ]
  },
  {
   "cell_type": "markdown",
   "id": "f8ad9c41",
   "metadata": {},
   "source": [
    "Firstly prepare the data as prepared before like remove na values , replace na values with 0 or mean , delete the columns which are not to be used.\n",
    "Then train_test_split the data using input columns and target column."
   ]
  },
  {
   "cell_type": "markdown",
   "id": "bbef7f96",
   "metadata": {},
   "source": [
    "Then import the L1 model --\n"
   ]
  },
  {
   "cell_type": "markdown",
   "id": "3315c000",
   "metadata": {},
   "source": [
    "from sklearn import linear_model\n",
    "\n"
   ]
  },
  {
   "cell_type": "markdown",
   "id": "474e1876",
   "metadata": {},
   "source": [
    "lasso_reg = linear_model.Lasso(alpha = 50, max_iter=100, tol = 0.1)"
   ]
  },
  {
   "cell_type": "markdown",
   "id": "f2e55256",
   "metadata": {},
   "source": [
    "lasso_reg.fit(x_train,y_train)"
   ]
  },
  {
   "cell_type": "code",
   "execution_count": null,
   "id": "ad6161d4",
   "metadata": {},
   "outputs": [],
   "source": []
  },
  {
   "cell_type": "code",
   "execution_count": null,
   "id": "4b26ed85",
   "metadata": {},
   "outputs": [],
   "source": []
  },
  {
   "cell_type": "code",
   "execution_count": null,
   "id": "bcd17568",
   "metadata": {},
   "outputs": [],
   "source": []
  },
  {
   "cell_type": "code",
   "execution_count": null,
   "id": "99472365",
   "metadata": {},
   "outputs": [],
   "source": []
  },
  {
   "cell_type": "code",
   "execution_count": null,
   "id": "0192a79a",
   "metadata": {},
   "outputs": [],
   "source": [
    "from"
   ]
  },
  {
   "cell_type": "code",
   "execution_count": null,
   "id": "482021e2",
   "metadata": {},
   "outputs": [],
   "source": []
  },
  {
   "cell_type": "code",
   "execution_count": null,
   "id": "41324f9f",
   "metadata": {},
   "outputs": [],
   "source": []
  },
  {
   "cell_type": "markdown",
   "id": "743b5af0",
   "metadata": {},
   "source": []
  },
  {
   "cell_type": "markdown",
   "id": "20cafea4",
   "metadata": {},
   "source": []
  },
  {
   "cell_type": "markdown",
   "id": "776c4c02",
   "metadata": {},
   "source": []
  },
  {
   "cell_type": "markdown",
   "id": "a7750e5c",
   "metadata": {},
   "source": []
  },
  {
   "cell_type": "markdown",
   "id": "e277f526",
   "metadata": {},
   "source": []
  },
  {
   "cell_type": "markdown",
   "id": "6cc27dda",
   "metadata": {},
   "source": []
  }
 ],
 "metadata": {
  "kernelspec": {
   "display_name": "base",
   "language": "python",
   "name": "python3"
  },
  "language_info": {
   "codemirror_mode": {
    "name": "ipython",
    "version": 3
   },
   "file_extension": ".py",
   "mimetype": "text/x-python",
   "name": "python",
   "nbconvert_exporter": "python",
   "pygments_lexer": "ipython3",
   "version": "3.12.4"
  }
 },
 "nbformat": 4,
 "nbformat_minor": 5
}
