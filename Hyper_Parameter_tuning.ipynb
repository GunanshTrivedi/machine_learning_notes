{
 "cells": [
  {
   "cell_type": "markdown",
   "id": "5c1dc5b4",
   "metadata": {},
   "source": [
    "Hyper parameter tunning -"
   ]
  },
  {
   "cell_type": "markdown",
   "id": "bcd71b35",
   "metadata": {},
   "source": [
    "To get the best parameters for the model we use Hyper parameter tunning."
   ]
  },
  {
   "cell_type": "markdown",
   "id": "6e1a793b",
   "metadata": {},
   "source": [
    "When we try to find the optimal values of hyper parameters for our data then this is called Hyper parameter tunning."
   ]
  },
  {
   "cell_type": "markdown",
   "id": "a0ac18f8",
   "metadata": {},
   "source": [
    "Example - RandomForest(n_tree = 10,max_depth = 3, criteria='ginni')"
   ]
  },
  {
   "cell_type": "markdown",
   "id": "d7ba2e39",
   "metadata": {},
   "source": [
    "- Here n_tree , max_depth , citeria are Hyper parameters."
   ]
  },
  {
   "cell_type": "markdown",
   "id": "50776969",
   "metadata": {},
   "source": [
    "- It is of two types -"
   ]
  },
  {
   "cell_type": "markdown",
   "id": "48fd1dee",
   "metadata": {},
   "source": [
    "1. Grid Search CV"
   ]
  },
  {
   "cell_type": "markdown",
   "id": "16fcc524",
   "metadata": {},
   "source": [
    "In Grid Search CV we give different values to parameters and run it on all the combinations and it gives us the most optimal combination."
   ]
  },
  {
   "cell_type": "markdown",
   "id": "a244b39e",
   "metadata": {},
   "source": [
    "It is called grid sreach because it works liks a grid at the time of combinations."
   ]
  },
  {
   "cell_type": "markdown",
   "id": "5b534cdf",
   "metadata": {},
   "source": [
    "We can use Grid Search CV for small datasets."
   ]
  },
  {
   "cell_type": "markdown",
   "id": "aa8e5c2d",
   "metadata": {},
   "source": [
    "example - n_estimators = [20,60,100,120] , max_depth = [1,2,8,10] like this we give multiple values to try."
   ]
  },
  {
   "cell_type": "markdown",
   "id": "fbf38a1f",
   "metadata": {},
   "source": []
  },
  {
   "cell_type": "markdown",
   "id": "b7fce956",
   "metadata": {},
   "source": [
    "2. Randomised Search CV"
   ]
  },
  {
   "cell_type": "markdown",
   "id": "a257cd61",
   "metadata": {},
   "source": [
    "In this we give different values to paramteres and it does not run on all the combinations it only run on some random combinations and give us the optimal out of it."
   ]
  },
  {
   "cell_type": "markdown",
   "id": "3b54a4e8",
   "metadata": {},
   "source": [
    "It is called radomised search cv because it runs randomly."
   ]
  },
  {
   "cell_type": "markdown",
   "id": "4ea9e2f1",
   "metadata": {},
   "source": [
    "It is a smarter approach for hyper parameter tunning."
   ]
  },
  {
   "cell_type": "markdown",
   "id": "78afe84f",
   "metadata": {},
   "source": [
    "We can use it on large datasets , large columns , large number of parameters."
   ]
  },
  {
   "cell_type": "markdown",
   "id": "2ad18392",
   "metadata": {},
   "source": []
  },
  {
   "cell_type": "markdown",
   "id": "cd9df575",
   "metadata": {},
   "source": [
    "from sklearn.model_selection  import GridSearchCV"
   ]
  },
  {
   "cell_type": "markdown",
   "id": "8c05735f",
   "metadata": {},
   "source": [
    "GridSearchCV(estimator = rf , param_grid = param_grid ,cv =5 ,verbose =2, n_jobs = -1)"
   ]
  },
  {
   "cell_type": "code",
   "execution_count": null,
   "id": "f3244af7",
   "metadata": {
    "vscode": {
     "languageId": "plaintext"
    }
   },
   "outputs": [],
   "source": []
  },
  {
   "cell_type": "code",
   "execution_count": null,
   "id": "4fd979f5",
   "metadata": {
    "vscode": {
     "languageId": "plaintext"
    }
   },
   "outputs": [],
   "source": []
  },
  {
   "cell_type": "code",
   "execution_count": null,
   "id": "e84ddd39",
   "metadata": {
    "vscode": {
     "languageId": "plaintext"
    }
   },
   "outputs": [],
   "source": []
  },
  {
   "cell_type": "code",
   "execution_count": null,
   "id": "46d99013",
   "metadata": {
    "vscode": {
     "languageId": "plaintext"
    }
   },
   "outputs": [],
   "source": []
  },
  {
   "cell_type": "code",
   "execution_count": null,
   "id": "45db6bf1",
   "metadata": {
    "vscode": {
     "languageId": "plaintext"
    }
   },
   "outputs": [],
   "source": []
  },
  {
   "cell_type": "code",
   "execution_count": null,
   "id": "9098d5fc",
   "metadata": {
    "vscode": {
     "languageId": "plaintext"
    }
   },
   "outputs": [],
   "source": []
  },
  {
   "cell_type": "markdown",
   "id": "1820e7dd",
   "metadata": {},
   "source": []
  }
 ],
 "metadata": {
  "language_info": {
   "name": "python"
  }
 },
 "nbformat": 4,
 "nbformat_minor": 5
}
