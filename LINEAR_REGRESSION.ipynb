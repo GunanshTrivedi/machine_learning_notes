{
 "cells": [
  {
   "cell_type": "markdown",
   "id": "143dc475",
   "metadata": {},
   "source": [
    "WORKS ON LINEAR/CONTINUOUS DATA--"
   ]
  },
  {
   "cell_type": "markdown",
   "id": "7dd3582a",
   "metadata": {},
   "source": [
    "import pandas as pd\n",
    "import numpy as np\n",
    "from sklearn import linear_model\n",
    "import matplotlib.pyplot as plt\n",
    "df = pd.read_csv('homeprices.csv')\n",
    "df\n",
    "area\tprice\n",
    "0\t2600\t550000\n",
    "1\t3000\t565000\n",
    "2\t3200\t610000\n",
    "3\t3600\t680000\n",
    "4\t4000\t725000\n",
    "%matplotlib inline\n",
    "plt.xlabel('area')\n",
    "plt.ylabel('price')\n",
    "plt.scatter(df.area,df.price,color='red',marker='+')\n",
    "<matplotlib.collections.PathCollection at 0x25c8eb78d68>\n",
    "\n",
    "new_df = df.drop('price',axis='columns')\n",
    "new_df\n",
    "area\n",
    "0\t2600\n",
    "1\t3000\n",
    "2\t3200\n",
    "3\t3600\n",
    "4\t4000\n",
    "price = df.price\n",
    "price\n",
    "0    550000\n",
    "1    565000\n",
    "2    610000\n",
    "3    680000\n",
    "4    725000\n",
    "Name: price, dtype: int64\n",
    "# Create linear regression object\n",
    "reg = linear_model.LinearRegression()\n",
    "reg.fit(new_df,price)\n",
    "LinearRegression(copy_X=True, fit_intercept=True, n_jobs=None,\n",
    "         normalize=False)\n",
    "(1) Predict price of a home with area = 3300 sqr ft\n",
    "\n",
    "reg.predict([[3300]])\n",
    "array([628715.75342466])\n",
    "reg.coef_\n",
    "array([135.78767123])\n",
    "reg.intercept_\n",
    "180616.43835616432\n",
    "Y = m * X + b (m is coefficient and b is intercept)\n",
    "\n",
    "3300*135.78767123 + 180616.43835616432\n",
    "628715.7534151643\n",
    "(1) Predict price of a home with area = 5000 sqr ft\n",
    "\n",
    "reg.predict([[5000]])\n",
    "array([859554.79452055])"
   ]
  }
 ],
 "metadata": {
  "kernelspec": {
   "display_name": "base",
   "language": "python",
   "name": "python3"
  },
  "language_info": {
   "name": "python",
   "version": "3.12.4"
  }
 },
 "nbformat": 4,
 "nbformat_minor": 5
}
